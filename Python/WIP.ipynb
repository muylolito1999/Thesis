{
 "cells": [
  {
   "cell_type": "code",
   "execution_count": 3,
   "metadata": {},
   "outputs": [],
   "source": [
    "from sklearn.datasets import load_breast_cancer\n",
    "from sklearn.tree import DecisionTreeClassifier, plot_tree\n",
    "from sklearn.ensemble import RandomForestClassifier\n",
    "from sklearn.model_selection import train_test_split\n",
    "from lime import lime_tabular\n",
    "from ucimlrepo import fetch_ucirepo\n",
    "import pandas as pd\n",
    "from sklearn.preprocessing import LabelEncoder\n",
    "from sklearn.model_selection import train_test_split, GridSearchCV\n",
    "from sklearn.metrics import accuracy_score, classification_report\n",
    "from xgboost import XGBClassifier\n",
    "import matplotlib.pyplot as plt\n",
    "from sklearn.svm import SVC\n",
    "from sklearn.model_selection import RandomizedSearchCV"
   ]
  },
  {
   "cell_type": "code",
   "execution_count": 4,
   "metadata": {},
   "outputs": [],
   "source": [
    "# Carica il dataset con il separatore corretto\n",
    "file_path = '/home/lollo/Thesis/Python/data/data_mapped.csv'\n",
    "data = pd.read_csv(file_path, delimiter=';')"
   ]
  },
  {
   "cell_type": "code",
   "execution_count": 5,
   "metadata": {},
   "outputs": [],
   "source": [
    "# Encode categorical features\n",
    "data_encoded = data.copy()\n",
    "\n",
    "# List categorical columns\n",
    "categorical_cols = data_encoded.select_dtypes(include=['object']).columns\n",
    "\n",
    "# Initialize the label encoder\n",
    "label_encoders = {col: LabelEncoder() for col in categorical_cols}\n",
    "\n",
    "# Apply label encoding to each categorical column\n",
    "for col, encoder in label_encoders.items():\n",
    "    data_encoded[col] = encoder.fit_transform(data_encoded[col])\n",
    "\n",
    "# Define the features (X) and the target (y)\n",
    "X = data_encoded.drop('Target', axis=1)\n",
    "y = data_encoded['Target']\n",
    "\n",
    "# Split the dataset into training and test sets\n",
    "X_train, X_test, y_train, y_test = train_test_split(X, y, test_size=0.2, random_state=42)"
   ]
  },
  {
   "cell_type": "code",
   "execution_count": 7,
   "metadata": {},
   "outputs": [],
   "source": [
    "columns_to_include = [\n",
    "    'Marital status', 'Application order', 'Admission grade',\n",
    "    'Gender', 'Age at enrollment', 'Curricular units 1st sem (evaluations)',\n",
    "    'Curricular units 1st sem (approved)', 'GDP', 'Target'\n",
    "]\n",
    "\n",
    "# Extract the subset of the dataset\n",
    "data_subset = data_encoded[columns_to_include]\n",
    "\n",
    "# Define the features (X) and the target (y) for the subset\n",
    "X_subset = data_subset.drop('Target', axis=1)\n",
    "y_subset = data_subset['Target']\n",
    "\n",
    "# Split the subset dataset into training and test sets\n",
    "X_train_subset, X_test_subset, y_train_subset, y_test_subset = train_test_split(\n",
    "    X_subset, y_subset, test_size=0.2, random_state=42)"
   ]
  },
  {
   "cell_type": "code",
   "execution_count": 8,
   "metadata": {},
   "outputs": [
    {
     "name": "stdout",
     "output_type": "stream",
     "text": [
      "DecisionTree Accuracy (All Columns): 71.19%\n"
     ]
    }
   ],
   "source": [
    "# Decision Tree con GridSearchCV per il pruning\n",
    "dt_params = {\n",
    "    'max_depth': [3, 5, 7, 10],\n",
    "    'min_samples_split': [2, 5, 10],\n",
    "    'min_samples_leaf': [1, 2, 4],\n",
    "    'criterion': ['gini', 'entropy']\n",
    "}\n",
    "\n",
    "dt_classifier = DecisionTreeClassifier(random_state=42)\n",
    "dt_grid_search = GridSearchCV(estimator=dt_classifier, param_grid=dt_params, cv=5, scoring='accuracy')\n",
    "dt_grid_search.fit(X_train, y_train)\n",
    "best_dt = dt_grid_search.best_estimator_\n",
    "y_pred_dt = best_dt.predict(X_test)\n",
    "accuracy_dt = accuracy_score(y_test, y_pred_dt)\n",
    "print(f\"Optimized DecisionTree Accuracy on all Dataset: {accuracy_dt:.2%}\")"
   ]
  }
 ],
 "metadata": {
  "kernelspec": {
   "display_name": ".venv",
   "language": "python",
   "name": "python3"
  },
  "language_info": {
   "codemirror_mode": {
    "name": "ipython",
    "version": 3
   },
   "file_extension": ".py",
   "mimetype": "text/x-python",
   "name": "python",
   "nbconvert_exporter": "python",
   "pygments_lexer": "ipython3",
   "version": "3.10.12"
  }
 },
 "nbformat": 4,
 "nbformat_minor": 2
}
