{
 "cells": [
  {
   "cell_type": "code",
   "execution_count": 1,
   "metadata": {},
   "outputs": [],
   "source": [
    "from sklearn.datasets import load_breast_cancer\n",
    "from sklearn.tree import DecisionTreeClassifier, plot_tree\n",
    "from sklearn.ensemble import RandomForestClassifier\n",
    "from sklearn.model_selection import train_test_split\n",
    "from lime import lime_tabular\n",
    "from ucimlrepo import fetch_ucirepo\n",
    "import pandas as pd\n",
    "from sklearn.preprocessing import LabelEncoder\n",
    "from sklearn.model_selection import train_test_split, GridSearchCV\n",
    "from sklearn.metrics import accuracy_score, classification_report\n",
    "from xgboost import XGBClassifier\n",
    "import matplotlib.pyplot as plt\n",
    "from sklearn.svm import SVC"
   ]
  },
  {
   "cell_type": "markdown",
   "metadata": {},
   "source": [
    "Carichiamo il Dataset   "
   ]
  },
  {
   "cell_type": "code",
   "execution_count": 2,
   "metadata": {},
   "outputs": [],
   "source": [
    "# Carica il dataset con il separatore corretto\n",
    "file_path = '/home/lollo/Thesis/Python/data/data_mapped.csv'\n",
    "data = pd.read_csv(file_path, delimiter=';')"
   ]
  },
  {
   "cell_type": "markdown",
   "metadata": {},
   "source": [
    "Encoding del dataset"
   ]
  },
  {
   "cell_type": "code",
   "execution_count": 3,
   "metadata": {},
   "outputs": [],
   "source": [
    "# Encode categorical features\n",
    "data_encoded = data.copy()\n",
    "\n",
    "# List categorical columns\n",
    "categorical_cols = data_encoded.select_dtypes(include=['object']).columns\n",
    "\n",
    "# Initialize the label encoder\n",
    "label_encoders = {col: LabelEncoder() for col in categorical_cols}\n",
    "\n",
    "# Apply label encoding to each categorical column\n",
    "for col, encoder in label_encoders.items():\n",
    "    data_encoded[col] = encoder.fit_transform(data_encoded[col])\n",
    "\n",
    "# Define the features (X) and the target (y)\n",
    "X = data_encoded.drop('Target', axis=1)\n",
    "y = data_encoded['Target']\n",
    "\n",
    "# Split the dataset into training and test sets\n",
    "X_train, X_test, y_train, y_test = train_test_split(X, y, test_size=0.2, random_state=42)"
   ]
  },
  {
   "cell_type": "markdown",
   "metadata": {},
   "source": [
    "Definizione delle colonne da Includere nel dataset"
   ]
  },
  {
   "cell_type": "code",
   "execution_count": 4,
   "metadata": {},
   "outputs": [],
   "source": [
    "columns_to_include = [\n",
    "    'Marital status', 'Application order', 'Admission grade',\n",
    "    'Gender', 'Age at enrollment', 'Curricular units 1st sem (evaluations)',\n",
    "    'Curricular units 1st sem (approved)', 'GDP', 'Target'\n",
    "]\n",
    "\n",
    "# Extract the subset of the dataset\n",
    "data_subset = data_encoded[columns_to_include]\n",
    "\n",
    "# Define the features (X) and the target (y) for the subset\n",
    "X_subset = data_subset.drop('Target', axis=1)\n",
    "y_subset = data_subset['Target']\n",
    "\n",
    "# Split the subset dataset into training and test sets\n",
    "X_train_subset, X_test_subset, y_train_subset, y_test_subset = train_test_split(\n",
    "    X_subset, y_subset, test_size=0.2, random_state=42\n",
    ")"
   ]
  },
  {
   "cell_type": "markdown",
   "metadata": {},
   "source": [
    "RandomForest su tutte le colonne del dataset"
   ]
  },
  {
   "cell_type": "code",
   "execution_count": 5,
   "metadata": {},
   "outputs": [
    {
     "name": "stdout",
     "output_type": "stream",
     "text": [
      "RandomForest Accuracy (All Columns): 100.00%\n"
     ]
    }
   ],
   "source": [
    "rf_classifier = RandomForestClassifier(random_state=42)\n",
    "rf_classifier.fit(X_train, y_train)\n",
    "y_pred_rf = rf_classifier.predict(X_train)\n",
    "accuracy_rf = accuracy_score(y_train, y_pred_rf)\n",
    "print(f\"RandomForest Accuracy (All Columns): {accuracy_rf:.2%}\")\n"
   ]
  },
  {
   "cell_type": "markdown",
   "metadata": {},
   "source": [
    "RandomForest su un subset delle colonne del dataset"
   ]
  },
  {
   "cell_type": "code",
   "execution_count": 6,
   "metadata": {},
   "outputs": [
    {
     "name": "stdout",
     "output_type": "stream",
     "text": [
      "RandomForest Accuracy (Subset Columns): 99.97%\n"
     ]
    }
   ],
   "source": [
    "rf_classifier_subset = RandomForestClassifier(random_state=42)\n",
    "rf_classifier_subset.fit(X_train_subset, y_train_subset)\n",
    "y_pred_rf_subset = rf_classifier_subset.predict(X_train_subset)\n",
    "accuracy_rf_subset = accuracy_score(y_train_subset, y_pred_rf_subset)\n",
    "print(f\"RandomForest Accuracy (Subset Columns): {accuracy_rf_subset:.2%}\")"
   ]
  },
  {
   "cell_type": "markdown",
   "metadata": {},
   "source": [
    "DecisionTreeClassifier su tutte le colonne del datset"
   ]
  },
  {
   "cell_type": "code",
   "execution_count": 7,
   "metadata": {},
   "outputs": [
    {
     "name": "stdout",
     "output_type": "stream",
     "text": [
      "DecisionTree Accuracy (All Columns): 100.00%\n"
     ]
    }
   ],
   "source": [
    "dt_classifier = DecisionTreeClassifier(random_state=42)\n",
    "dt_classifier.fit(X_train, y_train)\n",
    "y_pred_dt = dt_classifier.predict(X_train)\n",
    "accuracy_dt = accuracy_score(y_train, y_pred_dt)\n",
    "print(f\"DecisionTree Accuracy (All Columns): {accuracy_dt:.2%}\")"
   ]
  },
  {
   "cell_type": "markdown",
   "metadata": {},
   "source": [
    "DecisionTreeClassifier su un subset delle colonne del datset"
   ]
  },
  {
   "cell_type": "code",
   "execution_count": 8,
   "metadata": {},
   "outputs": [
    {
     "name": "stdout",
     "output_type": "stream",
     "text": [
      "DecisionTree Accuracy (Subset Columns): 99.97%\n"
     ]
    }
   ],
   "source": [
    "dt_classifier_subset = DecisionTreeClassifier(random_state=42)\n",
    "dt_classifier_subset.fit(X_train_subset, y_train_subset)\n",
    "y_pred_dt_subset = dt_classifier_subset.predict(X_train_subset)\n",
    "accuracy_dt_subset = accuracy_score(y_train_subset, y_pred_dt_subset)\n",
    "print(f\"DecisionTree Accuracy (Subset Columns): {accuracy_dt_subset:.2%}\")"
   ]
  },
  {
   "cell_type": "markdown",
   "metadata": {},
   "source": [
    "XGBoost su tutte le colonne"
   ]
  },
  {
   "cell_type": "code",
   "execution_count": 9,
   "metadata": {},
   "outputs": [
    {
     "name": "stderr",
     "output_type": "stream",
     "text": [
      "/home/lollo/Thesis/Python/.venv/lib/python3.10/site-packages/xgboost/core.py:158: UserWarning: [11:15:40] WARNING: /workspace/src/learner.cc:740: \n",
      "Parameters: { \"use_label_encoder\" } are not used.\n",
      "\n",
      "  warnings.warn(smsg, UserWarning)\n"
     ]
    },
    {
     "name": "stdout",
     "output_type": "stream",
     "text": [
      "XGBoost Accuracy (All Columns): 99.97%\n"
     ]
    }
   ],
   "source": [
    "xgb_classifier = XGBClassifier(use_label_encoder=False, eval_metric='mlogloss', n_estimators=100, random_state=42)\n",
    "xgb_classifier.fit(X_train, y_train)\n",
    "y_pred_xgb = xgb_classifier.predict(X_train)\n",
    "accuracy_xgb = accuracy_score(y_train, y_pred_xgb)\n",
    "print(f\"XGBoost Accuracy (All Columns): {accuracy_xgb:.2%}\")"
   ]
  },
  {
   "cell_type": "markdown",
   "metadata": {},
   "source": [
    "XGBoost su un subset delle colonne"
   ]
  },
  {
   "cell_type": "code",
   "execution_count": 10,
   "metadata": {},
   "outputs": [
    {
     "name": "stderr",
     "output_type": "stream",
     "text": [
      "/home/lollo/Thesis/Python/.venv/lib/python3.10/site-packages/xgboost/core.py:158: UserWarning: [11:16:00] WARNING: /workspace/src/learner.cc:740: \n",
      "Parameters: { \"use_label_encoder\" } are not used.\n",
      "\n",
      "  warnings.warn(smsg, UserWarning)\n"
     ]
    },
    {
     "name": "stdout",
     "output_type": "stream",
     "text": [
      "XGBoost Accuracy (Subset Columns): 94.83%\n"
     ]
    }
   ],
   "source": [
    "xgb_classifier_subset = XGBClassifier(use_label_encoder=False, eval_metric='mlogloss', n_estimators=100, random_state=42)\n",
    "xgb_classifier_subset.fit(X_train_subset, y_train_subset)\n",
    "y_pred_xgb_subset = xgb_classifier_subset.predict(X_train_subset)\n",
    "accuracy_xgb_subset = accuracy_score(y_train_subset, y_pred_xgb_subset)\n",
    "print(f\"XGBoost Accuracy (Subset Columns): {accuracy_xgb_subset:.2%}\")"
   ]
  },
  {
   "cell_type": "markdown",
   "metadata": {},
   "source": [
    "Support Vector Machines (SVM) su tutte le colonne del dataset"
   ]
  },
  {
   "cell_type": "code",
   "execution_count": 11,
   "metadata": {},
   "outputs": [
    {
     "name": "stdout",
     "output_type": "stream",
     "text": [
      "SVM Accuracy (All Columns): 77.90%\n"
     ]
    }
   ],
   "source": [
    "svm_classifier = SVC(kernel='linear', random_state=42)\n",
    "svm_classifier.fit(X_train, y_train)\n",
    "y_pred_svm = svm_classifier.predict(X_train)\n",
    "accuracy_svm = accuracy_score(y_train, y_pred_svm)\n",
    "print(f\"SVM Accuracy (All Columns): {accuracy_svm:.2%}\")"
   ]
  },
  {
   "cell_type": "markdown",
   "metadata": {},
   "source": [
    "Support Vector Machines (SVM) su un subset delle colonne del dataset"
   ]
  },
  {
   "cell_type": "code",
   "execution_count": 12,
   "metadata": {},
   "outputs": [
    {
     "name": "stdout",
     "output_type": "stream",
     "text": [
      "SVM Accuracy (Subset Columns): 69.99%\n"
     ]
    }
   ],
   "source": [
    "svm_classifier_subset = SVC(kernel='linear', random_state=42)\n",
    "svm_classifier_subset.fit(X_train_subset, y_train_subset)\n",
    "y_pred_svm_subset = svm_classifier_subset.predict(X_train_subset)\n",
    "accuracy_svm_subset = accuracy_score(y_train_subset, y_pred_svm_subset)\n",
    "print(f\"SVM Accuracy (Subset Columns): {accuracy_svm_subset:.2%}\")"
   ]
  },
  {
   "cell_type": "code",
   "execution_count": 13,
   "metadata": {},
   "outputs": [
    {
     "name": "stdout",
     "output_type": "stream",
     "text": [
      "Optimized DecisionTree Accuracy: 77.42%\n"
     ]
    }
   ],
   "source": [
    "# Decision Tree con GridSearchCV per il pruning\n",
    "dt_params = {\n",
    "    'max_depth': [3, 5, 7, 10],\n",
    "    'min_samples_split': [2, 5, 10],\n",
    "    'min_samples_leaf': [1, 2, 4],\n",
    "    'criterion': ['gini', 'entropy']\n",
    "}\n",
    "\n",
    "dt_classifier = DecisionTreeClassifier(random_state=42)\n",
    "dt_grid_search = GridSearchCV(estimator=dt_classifier, param_grid=dt_params, cv=5, scoring='accuracy')\n",
    "dt_grid_search.fit(X_train, y_train)\n",
    "best_dt = dt_grid_search.best_estimator_\n",
    "y_pred_dt = best_dt.predict(X_train)\n",
    "accuracy_dt = accuracy_score(y_train, y_pred_dt)\n",
    "print(f\"Optimized DecisionTree Accuracy: {accuracy_dt:.2%}\")\n"
   ]
  },
  {
   "cell_type": "code",
   "execution_count": null,
   "metadata": {},
   "outputs": [],
   "source": [
    "# Decision Tree con GridSearchCV per il pruning sul subset\n",
    "dt_params = {\n",
    "    'max_depth': [3, 5, 7, 10],\n",
    "    'min_samples_split': [2, 5, 10],\n",
    "    'min_samples_leaf': [1, 2, 4],\n",
    "    'criterion': ['gini', 'entropy']\n",
    "}\n",
    "\n",
    "dt_classifier = DecisionTreeClassifier(random_state=42)\n",
    "dt_grid_search = GridSearchCV(estimator=dt_classifier, param_grid=dt_params, cv=5, scoring='accuracy')\n",
    "dt_grid_search.fit(X_train_subset, y_train_subset)\n",
    "best_dt = dt_grid_search.best_estimator_\n",
    "y_pred_dt = best_dt.predict(X_train_subset)\n",
    "accuracy_dt = accuracy_score(y_train_subset, y_pred_dt)\n",
    "print(f\"Optimized DecisionTree Accuracy on Subset: {accuracy_dt:.2%}\")"
   ]
  },
  {
   "cell_type": "code",
   "execution_count": 14,
   "metadata": {},
   "outputs": [
    {
     "name": "stderr",
     "output_type": "stream",
     "text": [
      "/home/lollo/Thesis/Python/.venv/lib/python3.10/site-packages/xgboost/core.py:158: UserWarning: [11:16:22] WARNING: /workspace/src/learner.cc:740: \n",
      "Parameters: { \"use_label_encoder\" } are not used.\n",
      "\n",
      "  warnings.warn(smsg, UserWarning)\n",
      "/home/lollo/Thesis/Python/.venv/lib/python3.10/site-packages/xgboost/core.py:158: UserWarning: [11:16:26] WARNING: /workspace/src/learner.cc:740: \n",
      "Parameters: { \"use_label_encoder\" } are not used.\n",
      "\n",
      "  warnings.warn(smsg, UserWarning)\n",
      "/home/lollo/Thesis/Python/.venv/lib/python3.10/site-packages/xgboost/core.py:158: UserWarning: [11:16:41] WARNING: /workspace/src/learner.cc:740: \n",
      "Parameters: { \"use_label_encoder\" } are not used.\n",
      "\n",
      "  warnings.warn(smsg, UserWarning)\n",
      "/home/lollo/Thesis/Python/.venv/lib/python3.10/site-packages/xgboost/core.py:158: UserWarning: [11:16:45] WARNING: /workspace/src/learner.cc:740: \n",
      "Parameters: { \"use_label_encoder\" } are not used.\n",
      "\n",
      "  warnings.warn(smsg, UserWarning)\n",
      "/home/lollo/Thesis/Python/.venv/lib/python3.10/site-packages/xgboost/core.py:158: UserWarning: [11:16:55] WARNING: /workspace/src/learner.cc:740: \n",
      "Parameters: { \"use_label_encoder\" } are not used.\n",
      "\n",
      "  warnings.warn(smsg, UserWarning)\n",
      "/home/lollo/Thesis/Python/.venv/lib/python3.10/site-packages/xgboost/core.py:158: UserWarning: [11:17:06] WARNING: /workspace/src/learner.cc:740: \n",
      "Parameters: { \"use_label_encoder\" } are not used.\n",
      "\n",
      "  warnings.warn(smsg, UserWarning)\n",
      "/home/lollo/Thesis/Python/.venv/lib/python3.10/site-packages/xgboost/core.py:158: UserWarning: [11:17:12] WARNING: /workspace/src/learner.cc:740: \n",
      "Parameters: { \"use_label_encoder\" } are not used.\n",
      "\n",
      "  warnings.warn(smsg, UserWarning)\n",
      "/home/lollo/Thesis/Python/.venv/lib/python3.10/site-packages/xgboost/core.py:158: UserWarning: [11:17:17] WARNING: /workspace/src/learner.cc:740: \n",
      "Parameters: { \"use_label_encoder\" } are not used.\n",
      "\n",
      "  warnings.warn(smsg, UserWarning)\n",
      "/home/lollo/Thesis/Python/.venv/lib/python3.10/site-packages/xgboost/core.py:158: UserWarning: [11:17:26] WARNING: /workspace/src/learner.cc:740: \n",
      "Parameters: { \"use_label_encoder\" } are not used.\n",
      "\n",
      "  warnings.warn(smsg, UserWarning)\n",
      "/home/lollo/Thesis/Python/.venv/lib/python3.10/site-packages/xgboost/core.py:158: UserWarning: [11:17:30] WARNING: /workspace/src/learner.cc:740: \n",
      "Parameters: { \"use_label_encoder\" } are not used.\n",
      "\n",
      "  warnings.warn(smsg, UserWarning)\n",
      "/home/lollo/Thesis/Python/.venv/lib/python3.10/site-packages/xgboost/core.py:158: UserWarning: [11:17:36] WARNING: /workspace/src/learner.cc:740: \n",
      "Parameters: { \"use_label_encoder\" } are not used.\n",
      "\n",
      "  warnings.warn(smsg, UserWarning)\n",
      "/home/lollo/Thesis/Python/.venv/lib/python3.10/site-packages/xgboost/core.py:158: UserWarning: [11:17:58] WARNING: /workspace/src/learner.cc:740: \n",
      "Parameters: { \"use_label_encoder\" } are not used.\n",
      "\n",
      "  warnings.warn(smsg, UserWarning)\n",
      "/home/lollo/Thesis/Python/.venv/lib/python3.10/site-packages/xgboost/core.py:158: UserWarning: [11:18:19] WARNING: /workspace/src/learner.cc:740: \n",
      "Parameters: { \"use_label_encoder\" } are not used.\n",
      "\n",
      "  warnings.warn(smsg, UserWarning)\n",
      "/home/lollo/Thesis/Python/.venv/lib/python3.10/site-packages/xgboost/core.py:158: UserWarning: [11:18:55] WARNING: /workspace/src/learner.cc:740: \n",
      "Parameters: { \"use_label_encoder\" } are not used.\n",
      "\n",
      "  warnings.warn(smsg, UserWarning)\n",
      "/home/lollo/Thesis/Python/.venv/lib/python3.10/site-packages/xgboost/core.py:158: UserWarning: [11:20:00] WARNING: /workspace/src/learner.cc:740: \n",
      "Parameters: { \"use_label_encoder\" } are not used.\n",
      "\n",
      "  warnings.warn(smsg, UserWarning)\n",
      "/home/lollo/Thesis/Python/.venv/lib/python3.10/site-packages/xgboost/core.py:158: UserWarning: [11:20:28] WARNING: /workspace/src/learner.cc:740: \n",
      "Parameters: { \"use_label_encoder\" } are not used.\n",
      "\n",
      "  warnings.warn(smsg, UserWarning)\n",
      "/home/lollo/Thesis/Python/.venv/lib/python3.10/site-packages/xgboost/core.py:158: UserWarning: [11:20:48] WARNING: /workspace/src/learner.cc:740: \n",
      "Parameters: { \"use_label_encoder\" } are not used.\n",
      "\n",
      "  warnings.warn(smsg, UserWarning)\n",
      "/home/lollo/Thesis/Python/.venv/lib/python3.10/site-packages/xgboost/core.py:158: UserWarning: [11:20:57] WARNING: /workspace/src/learner.cc:740: \n",
      "Parameters: { \"use_label_encoder\" } are not used.\n",
      "\n",
      "  warnings.warn(smsg, UserWarning)\n",
      "/home/lollo/Thesis/Python/.venv/lib/python3.10/site-packages/xgboost/core.py:158: UserWarning: [11:21:16] WARNING: /workspace/src/learner.cc:740: \n",
      "Parameters: { \"use_label_encoder\" } are not used.\n",
      "\n",
      "  warnings.warn(smsg, UserWarning)\n",
      "/home/lollo/Thesis/Python/.venv/lib/python3.10/site-packages/xgboost/core.py:158: UserWarning: [11:21:25] WARNING: /workspace/src/learner.cc:740: \n",
      "Parameters: { \"use_label_encoder\" } are not used.\n",
      "\n",
      "  warnings.warn(smsg, UserWarning)\n",
      "/home/lollo/Thesis/Python/.venv/lib/python3.10/site-packages/xgboost/core.py:158: UserWarning: [11:21:39] WARNING: /workspace/src/learner.cc:740: \n",
      "Parameters: { \"use_label_encoder\" } are not used.\n",
      "\n",
      "  warnings.warn(smsg, UserWarning)\n",
      "/home/lollo/Thesis/Python/.venv/lib/python3.10/site-packages/xgboost/core.py:158: UserWarning: [11:22:31] WARNING: /workspace/src/learner.cc:740: \n",
      "Parameters: { \"use_label_encoder\" } are not used.\n",
      "\n",
      "  warnings.warn(smsg, UserWarning)\n",
      "/home/lollo/Thesis/Python/.venv/lib/python3.10/site-packages/xgboost/core.py:158: UserWarning: [11:24:26] WARNING: /workspace/src/learner.cc:740: \n",
      "Parameters: { \"use_label_encoder\" } are not used.\n",
      "\n",
      "  warnings.warn(smsg, UserWarning)\n",
      "/home/lollo/Thesis/Python/.venv/lib/python3.10/site-packages/xgboost/core.py:158: UserWarning: [11:24:58] WARNING: /workspace/src/learner.cc:740: \n",
      "Parameters: { \"use_label_encoder\" } are not used.\n",
      "\n",
      "  warnings.warn(smsg, UserWarning)\n",
      "/home/lollo/Thesis/Python/.venv/lib/python3.10/site-packages/xgboost/core.py:158: UserWarning: [11:25:30] WARNING: /workspace/src/learner.cc:740: \n",
      "Parameters: { \"use_label_encoder\" } are not used.\n",
      "\n",
      "  warnings.warn(smsg, UserWarning)\n",
      "/home/lollo/Thesis/Python/.venv/lib/python3.10/site-packages/xgboost/core.py:158: UserWarning: [11:25:55] WARNING: /workspace/src/learner.cc:740: \n",
      "Parameters: { \"use_label_encoder\" } are not used.\n",
      "\n",
      "  warnings.warn(smsg, UserWarning)\n",
      "/home/lollo/Thesis/Python/.venv/lib/python3.10/site-packages/xgboost/core.py:158: UserWarning: [11:26:14] WARNING: /workspace/src/learner.cc:740: \n",
      "Parameters: { \"use_label_encoder\" } are not used.\n",
      "\n",
      "  warnings.warn(smsg, UserWarning)\n",
      "/home/lollo/Thesis/Python/.venv/lib/python3.10/site-packages/xgboost/core.py:158: UserWarning: [11:26:41] WARNING: /workspace/src/learner.cc:740: \n",
      "Parameters: { \"use_label_encoder\" } are not used.\n",
      "\n",
      "  warnings.warn(smsg, UserWarning)\n",
      "/home/lollo/Thesis/Python/.venv/lib/python3.10/site-packages/xgboost/core.py:158: UserWarning: [11:26:53] WARNING: /workspace/src/learner.cc:740: \n",
      "Parameters: { \"use_label_encoder\" } are not used.\n",
      "\n",
      "  warnings.warn(smsg, UserWarning)\n",
      "/home/lollo/Thesis/Python/.venv/lib/python3.10/site-packages/xgboost/core.py:158: UserWarning: [11:27:56] WARNING: /workspace/src/learner.cc:740: \n",
      "Parameters: { \"use_label_encoder\" } are not used.\n",
      "\n",
      "  warnings.warn(smsg, UserWarning)\n",
      "/home/lollo/Thesis/Python/.venv/lib/python3.10/site-packages/xgboost/core.py:158: UserWarning: [11:32:02] WARNING: /workspace/src/learner.cc:740: \n",
      "Parameters: { \"use_label_encoder\" } are not used.\n",
      "\n",
      "  warnings.warn(smsg, UserWarning)\n",
      "/home/lollo/Thesis/Python/.venv/lib/python3.10/site-packages/xgboost/core.py:158: UserWarning: [11:33:50] WARNING: /workspace/src/learner.cc:740: \n",
      "Parameters: { \"use_label_encoder\" } are not used.\n",
      "\n",
      "  warnings.warn(smsg, UserWarning)\n",
      "/home/lollo/Thesis/Python/.venv/lib/python3.10/site-packages/xgboost/core.py:158: UserWarning: [11:36:00] WARNING: /workspace/src/learner.cc:740: \n",
      "Parameters: { \"use_label_encoder\" } are not used.\n",
      "\n",
      "  warnings.warn(smsg, UserWarning)\n"
     ]
    }
   ],
   "source": [
    "# XGBoost con GridSearchCV per l'ottimizzazione degli iperparametri\n",
    "xgb_params = {\n",
    "    'n_estimators': [100, 200, 300],\n",
    "    'max_depth': [3, 5, 7],\n",
    "    'learning_rate': [0.01, 0.1, 0.2],\n",
    "    'gamma': [0, 0.1, 0.2],\n",
    "    'subsample': [0.8, 1.0],\n",
    "    'colsample_bytree': [0.8, 1.0]\n",
    "}\n",
    "\n",
    "xgb_classifier = XGBClassifier(random_state=42, use_label_encoder=False)\n",
    "xgb_grid_search = GridSearchCV(estimator=xgb_classifier, param_grid=xgb_params, cv=5, scoring='accuracy')\n",
    "xgb_grid_search.fit(X_train, y_train)\n",
    "best_xgb = xgb_grid_search.best_estimator_\n",
    "y_pred_xgb = best_xgb.predict(X_train)\n",
    "accuracy_xgb = accuracy_score(y_train, y_pred_xgb)\n",
    "print(f\"Optimized XGBoost Accuracy: {accuracy_xgb:.2%}\")\n"
   ]
  }
 ],
 "metadata": {
  "kernelspec": {
   "display_name": ".venv",
   "language": "python",
   "name": "python3"
  },
  "language_info": {
   "codemirror_mode": {
    "name": "ipython",
    "version": 3
   },
   "file_extension": ".py",
   "mimetype": "text/x-python",
   "name": "python",
   "nbconvert_exporter": "python",
   "pygments_lexer": "ipython3",
   "version": "3.10.12"
  }
 },
 "nbformat": 4,
 "nbformat_minor": 2
}
